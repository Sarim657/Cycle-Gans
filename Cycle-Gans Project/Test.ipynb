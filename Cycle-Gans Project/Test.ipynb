{
  "nbformat": 4,
  "nbformat_minor": 0,
  "metadata": {
    "colab": {
      "provenance": []
    },
    "kernelspec": {
      "name": "python3",
      "display_name": "Python 3"
    },
    "language_info": {
      "name": "python"
    }
  },
  "cells": [
    {
      "cell_type": "code",
      "execution_count": null,
      "metadata": {
        "id": "fWFaUPjvea-Z"
      },
      "outputs": [],
      "source": []
    },
    {
      "cell_type": "code",
      "source": [
        "from google.colab import drive\n",
        "drive.mount('/content/drive')"
      ],
      "metadata": {
        "colab": {
          "base_uri": "https://localhost:8080/"
        },
        "id": "iB93DdyaeyST",
        "outputId": "35a2db36-de7d-4e22-e395-3f4f531e21ad"
      },
      "execution_count": 1,
      "outputs": [
        {
          "output_type": "stream",
          "name": "stdout",
          "text": [
            "Drive already mounted at /content/drive; to attempt to forcibly remount, call drive.mount(\"/content/drive\", force_remount=True).\n"
          ]
        }
      ]
    },
    {
      "cell_type": "code",
      "source": [
        "import zipfile\n",
        "\n",
        "zip_ref = zipfile.ZipFile(\"/content/drive/MyDrive/data.zip\", 'r')\n",
        "zip_ref.extractall(\"/content/unzipped_folder\")\n",
        "zip_ref.close()"
      ],
      "metadata": {
        "id": "MriNZWlOsBMW"
      },
      "execution_count": 2,
      "outputs": []
    },
    {
      "cell_type": "code",
      "source": [
        "import os\n",
        "import pandas as pd\n",
        "import numpy as np\n",
        "import tensorflow as tf\n",
        "from PIL import Image\n",
        "import cv2"
      ],
      "metadata": {
        "id": "7MiO-W6ygHVu"
      },
      "execution_count": 3,
      "outputs": []
    },
    {
      "cell_type": "code",
      "source": [
        "train_path='/content/unzipped_folder/Testing/Early_Blight'\n",
        "train_list=os.listdir(train_path)\n",
        "print(len(train_list))"
      ],
      "metadata": {
        "colab": {
          "base_uri": "https://localhost:8080/"
        },
        "id": "oxgCCYfP024z",
        "outputId": "a98796f1-76dc-40c4-9ade-9888942263fb"
      },
      "execution_count": 19,
      "outputs": [
        {
          "output_type": "stream",
          "name": "stdout",
          "text": [
            "162\n"
          ]
        }
      ]
    },
    {
      "cell_type": "code",
      "source": [
        "x_test=[]\n",
        "for image in train_list:\n",
        "    image_path=os.path.join(train_path,image)\n",
        "    img_cv2 = cv2.imread(image_path, cv2.IMREAD_UNCHANGED)\n",
        "    img_cv2 = cv2.resize(img_cv2, (128, 128))\n",
        "    img_cv2 = img_cv2 / 255.0\n",
        "    x_test.append(img_cv2)\n",
        ""
      ],
      "metadata": {
        "id": "49gT9A2T1Brp"
      },
      "execution_count": 20,
      "outputs": []
    },
    {
      "cell_type": "code",
      "source": [
        "train_path='/content/unzipped_folder/Training/Early_Blight'\n",
        "train_list=os.listdir(train_path)\n",
        "print(train_list)"
      ],
      "metadata": {
        "colab": {
          "base_uri": "https://localhost:8080/"
        },
        "id": "5LxoXgJEfd3L",
        "outputId": "2bb7ce6e-ca1d-4ca3-f807-122f8ff75aad"
      },
      "execution_count": 4,
      "outputs": [
        {
          "output_type": "stream",
          "name": "stdout",
          "text": [
            "['Early_Blight_13.jpg', 'Early_Blight_871.jpg', 'Early_Blight_1277.jpg', 'Early_Blight_1269.jpg', 'Early_Blight_47.jpg', 'Early_Blight_231.jpg', 'Early_Blight_1204.jpg', 'Early_Blight_1026.jpg', 'Early_Blight_728.jpg', 'Early_Blight_895.jpg', 'Early_Blight_1014.jpg', 'Early_Blight_1034.jpg', 'Early_Blight_807.jpg', 'Early_Blight_663.jpg', 'Early_Blight_674.jpg', 'Early_Blight_596.jpg', 'Early_Blight_1127.jpg', 'Early_Blight_902.jpg', 'Early_Blight_323.jpg', 'Early_Blight_1267.jpg', 'Early_Blight_147.jpg', 'Early_Blight_668.jpg', 'Early_Blight_584.jpg', 'Early_Blight_15.jpg', 'Early_Blight_367.jpg', 'Early_Blight_791.jpg', 'Early_Blight_78.jpg', 'Early_Blight_601.jpg', 'Early_Blight_555.jpg', 'Early_Blight_486.jpg', 'Early_Blight_1107.jpg', 'Early_Blight_701.jpg', 'Early_Blight_1114.jpg', 'Early_Blight_320.jpg', 'Early_Blight_502.jpg', 'Early_Blight_30.jpg', 'Early_Blight_1047.jpg', 'Early_Blight_624.jpg', 'Early_Blight_219.jpg', 'Early_Blight_893.jpg', 'Early_Blight_930.jpg', 'Early_Blight_344.jpg', 'Early_Blight_757.jpg', 'Early_Blight_925.jpg', 'Early_Blight_305.jpg', 'Early_Blight_457.jpg', 'Early_Blight_234.jpg', 'Early_Blight_376.jpg', 'Early_Blight_909.jpg', 'Early_Blight_832.jpg', 'Early_Blight_852.jpg', 'Early_Blight_501.jpg', 'Early_Blight_590.jpg', 'Early_Blight_559.jpg', 'Early_Blight_667.jpg', 'Early_Blight_289.jpg', 'Early_Blight_1260.jpg', 'Early_Blight_941.jpg', 'Early_Blight_1190.jpg', 'Early_Blight_1121.jpg', 'Early_Blight_17.jpg', 'Early_Blight_829.jpg', 'Early_Blight_691.jpg', 'Early_Blight_574.jpg', 'Early_Blight_298.jpg', 'Early_Blight_108.jpg', 'Early_Blight_910.jpg', 'Early_Blight_71.jpg', 'Early_Blight_778.jpg', 'Early_Blight_588.jpg', 'Early_Blight_440.jpg', 'Early_Blight_137.jpg', 'Early_Blight_759.jpg', 'Early_Blight_523.jpg', 'Early_Blight_682.jpg', 'Early_Blight_77.jpg', 'Early_Blight_412.jpg', 'Early_Blight_1000.jpg', 'Early_Blight_788.jpg', 'Early_Blight_366.jpg', 'Early_Blight_982.jpg', 'Early_Blight_557.jpg', 'Early_Blight_806.jpg', 'Early_Blight_720.jpg', 'Early_Blight_554.jpg', 'Early_Blight_544.jpg', 'Early_Blight_252.jpg', 'Early_Blight_1181.jpg', 'Early_Blight_1020.jpg', 'Early_Blight_834.jpg', 'Early_Blight_1161.jpg', 'Early_Blight_335.jpg', 'Early_Blight_363.jpg', 'Early_Blight_1254.jpg', 'Early_Blight_713.jpg', 'Early_Blight_877.jpg', 'Early_Blight_358.jpg', 'Early_Blight_841.jpg', 'Early_Blight_1045.jpg', 'Early_Blight_368.jpg', 'Early_Blight_244.jpg', 'Early_Blight_453.jpg', 'Early_Blight_1011.jpg', 'Early_Blight_300.jpg', 'Early_Blight_916.jpg', 'Early_Blight_708.jpg', 'Early_Blight_346.jpg', 'Early_Blight_511.jpg', 'Early_Blight_382.jpg', 'Early_Blight_26.jpg', 'Early_Blight_799.jpg', 'Early_Blight_903.jpg', 'Early_Blight_1118.jpg', 'Early_Blight_711.jpg', 'Early_Blight_964.jpg', 'Early_Blight_1049.jpg', 'Early_Blight_404.jpg', 'Early_Blight_88.jpg', 'Early_Blight_44.jpg', 'Early_Blight_311.jpg', 'Early_Blight_820.jpg', 'Early_Blight_500.jpg', 'Early_Blight_35.jpg', 'Early_Blight_662.jpg', 'Early_Blight_750.jpg', 'Early_Blight_197.jpg', 'Early_Blight_1202.jpg', 'Early_Blight_63.jpg', 'Early_Blight_1205.jpg', 'Early_Blight_142.jpg', 'Early_Blight_570.jpg', 'Early_Blight_421.jpg', 'Early_Blight_1069.jpg', 'Early_Blight_1113.jpg', 'Early_Blight_37.jpg', 'Early_Blight_1203.jpg', 'Early_Blight_1210.jpg', 'Early_Blight_614.jpg', 'Early_Blight_243.jpg', 'Early_Blight_110.jpg', 'Early_Blight_1120.jpg', 'Early_Blight_1227.jpg', 'Early_Blight_1246.jpg', 'Early_Blight_95.jpg', 'Early_Blight_901.jpg', 'Early_Blight_664.jpg', 'Early_Blight_200.jpg', 'Early_Blight_255.jpg', 'Early_Blight_1145.jpg', 'Early_Blight_859.jpg', 'Early_Blight_191.jpg', 'Early_Blight_987.jpg', 'Early_Blight_1179.jpg', 'Early_Blight_460.jpg', 'Early_Blight_653.jpg', 'Early_Blight_1235.jpg', 'Early_Blight_152.jpg', 'Early_Blight_348.jpg', 'Early_Blight_48.jpg', 'Early_Blight_863.jpg', 'Early_Blight_1292.jpg', 'Early_Blight_1078.jpg', 'Early_Blight_951.jpg', 'Early_Blight_1178.jpg', 'Early_Blight_388.jpg', 'Early_Blight_649.jpg', 'Early_Blight_479.jpg', 'Early_Blight_804.jpg', 'Early_Blight_247.jpg', 'Early_Blight_81.jpg', 'Early_Blight_1081.jpg', 'Early_Blight_962.jpg', 'Early_Blight_230.jpg', 'Early_Blight_1282.jpg', 'Early_Blight_747.jpg', 'Early_Blight_296.jpg', 'Early_Blight_162.jpg', 'Early_Blight_1275.jpg', 'Early_Blight_206.jpg', 'Early_Blight_620.jpg', 'Early_Blight_867.jpg', 'Early_Blight_168.jpg', 'Early_Blight_860.jpg', 'Early_Blight_1263.jpg', 'Early_Blight_270.jpg', 'Early_Blight_1138.jpg', 'Early_Blight_226.jpg', 'Early_Blight_1278.jpg', 'Early_Blight_1105.jpg', 'Early_Blight_1291.jpg', 'Early_Blight_1302.jpg', 'Early_Blight_264.jpg', 'Early_Blight_787.jpg', 'Early_Blight_279.jpg', 'Early_Blight_173.jpg', 'Early_Blight_623.jpg', 'Early_Blight_410.jpg', 'Early_Blight_589.jpg', 'Early_Blight_1137.jpg', 'Early_Blight_937.jpg', 'Early_Blight_464.jpg', 'Early_Blight_1104.jpg', 'Early_Blight_101.jpg', 'Early_Blight_960.jpg', 'Early_Blight_1132.jpg', 'Early_Blight_830.jpg', 'Early_Blight_3.jpg', 'Early_Blight_1044.jpg', 'Early_Blight_724.jpg', 'Early_Blight_221.jpg', 'Early_Blight_643.jpg', 'Early_Blight_603.jpg', 'Early_Blight_862.jpg', 'Early_Blight_599.jpg', 'Early_Blight_1222.jpg', 'Early_Blight_1243.jpg', 'Early_Blight_796.jpg', 'Early_Blight_321.jpg', 'Early_Blight_375.jpg', 'Early_Blight_333.jpg', 'Early_Blight_288.jpg', 'Early_Blight_249.jpg', 'Early_Blight_1183.jpg', 'Early_Blight_977.jpg', 'Early_Blight_564.jpg', 'Early_Blight_729.jpg', 'Early_Blight_715.jpg', 'Early_Blight_677.jpg', 'Early_Blight_290.jpg', 'Early_Blight_1027.jpg', 'Early_Blight_1087.jpg', 'Early_Blight_592.jpg', 'Early_Blight_492.jpg', 'Early_Blight_1164.jpg', 'Early_Blight_927.jpg', 'Early_Blight_1097.jpg', 'Early_Blight_527.jpg', 'Early_Blight_1135.jpg', 'Early_Blight_743.jpg', 'Early_Blight_1175.jpg', 'Early_Blight_313.jpg', 'Early_Blight_129.jpg', 'Early_Blight_660.jpg', 'Early_Blight_343.jpg', 'Early_Blight_80.jpg', 'Early_Blight_593.jpg', 'Early_Blight_1072.jpg', 'Early_Blight_738.jpg', 'Early_Blight_896.jpg', 'Early_Blight_1169.jpg', 'Early_Blight_1091.jpg', 'Early_Blight_199.jpg', 'Early_Blight_115.jpg', 'Early_Blight_904.jpg', 'Early_Blight_303.jpg', 'Early_Blight_1111.jpg', 'Early_Blight_509.jpg', 'Early_Blight_1023.jpg', 'Early_Blight_687.jpg', 'Early_Blight_65.jpg', 'Early_Blight_214.jpg', 'Early_Blight_1088.jpg', 'Early_Blight_100.jpg', 'Early_Blight_539.jpg', 'Early_Blight_1294.jpg', 'Early_Blight_125.jpg', 'Early_Blight_694.jpg', 'Early_Blight_811.jpg', 'Early_Blight_725.jpg', 'Early_Blight_1172.jpg', 'Early_Blight_220.jpg', 'Early_Blight_719.jpg', 'Early_Blight_132.jpg', 'Early_Blight_618.jpg', 'Early_Blight_808.jpg', 'Early_Blight_843.jpg', 'Early_Blight_943.jpg', 'Early_Blight_331.jpg', 'Early_Blight_8.jpg', 'Early_Blight_310.jpg', 'Early_Blight_1036.jpg', 'Early_Blight_635.jpg', 'Early_Blight_955.jpg', 'Early_Blight_19.jpg', 'Early_Blight_912.jpg', 'Early_Blight_118.jpg', 'Early_Blight_1149.jpg', 'Early_Blight_568.jpg', 'Early_Blight_785.jpg', 'Early_Blight_261.jpg', 'Early_Blight_735.jpg', 'Early_Blight_257.jpg', 'Early_Blight_740.jpg', 'Early_Blight_1265.jpg', 'Early_Blight_839.jpg', 'Early_Blight_40.jpg', 'Early_Blight_1231.jpg', 'Early_Blight_1110.jpg', 'Early_Blight_1002.jpg', 'Early_Blight_408.jpg', 'Early_Blight_1119.jpg', 'Early_Blight_60.jpg', 'Early_Blight_2.jpg', 'Early_Blight_884.jpg', 'Early_Blight_569.jpg', 'Early_Blight_213.jpg', 'Early_Blight_782.jpg', 'Early_Blight_446.jpg', 'Early_Blight_156.jpg', 'Early_Blight_565.jpg', 'Early_Blight_861.jpg', 'Early_Blight_429.jpg', 'Early_Blight_493.jpg', 'Early_Blight_764.jpg', 'Early_Blight_292.jpg', 'Early_Blight_745.jpg', 'Early_Blight_585.jpg', 'Early_Blight_931.jpg', 'Early_Blight_950.jpg', 'Early_Blight_184.jpg', 'Early_Blight_241.jpg', 'Early_Blight_548.jpg', 'Early_Blight_853.jpg', 'Early_Blight_218.jpg', 'Early_Blight_504.jpg', 'Early_Blight_1163.jpg', 'Early_Blight_27.jpg', 'Early_Blight_546.jpg', 'Early_Blight_878.jpg', 'Early_Blight_856.jpg', 'Early_Blight_749.jpg', 'Early_Blight_389.jpg', 'Early_Blight_1129.jpg', 'Early_Blight_166.jpg', 'Early_Blight_671.jpg', 'Early_Blight_444.jpg', 'Early_Blight_1037.jpg', 'Early_Blight_1223.jpg', 'Early_Blight_798.jpg', 'Early_Blight_469.jpg', 'Early_Blight_1295.jpg', 'Early_Blight_532.jpg', 'Early_Blight_1289.jpg', 'Early_Blight_349.jpg', 'Early_Blight_800.jpg', 'Early_Blight_792.jpg', 'Early_Blight_1122.jpg', 'Early_Blight_629.jpg', 'Early_Blight_86.jpg', 'Early_Blight_189.jpg', 'Early_Blight_41.jpg', 'Early_Blight_280.jpg', 'Early_Blight_352.jpg', 'Early_Blight_1131.jpg', 'Early_Blight_947.jpg', 'Early_Blight_1158.jpg', 'Early_Blight_661.jpg', 'Early_Blight_849.jpg', 'Early_Blight_193.jpg', 'Early_Blight_967.jpg', 'Early_Blight_145.jpg', 'Early_Blight_897.jpg', 'Early_Blight_1079.jpg', 'Early_Blight_227.jpg', 'Early_Blight_391.jpg', 'Early_Blight_857.jpg', 'Early_Blight_119.jpg', 'Early_Blight_117.jpg', 'Early_Blight_998.jpg', 'Early_Blight_286.jpg', 'Early_Blight_474.jpg', 'Early_Blight_833.jpg', 'Early_Blight_786.jpg', 'Early_Blight_130.jpg', 'Early_Blight_864.jpg', 'Early_Blight_695.jpg', 'Early_Blight_1213.jpg', 'Early_Blight_91.jpg', 'Early_Blight_777.jpg', 'Early_Blight_1.jpg', 'Early_Blight_699.jpg', 'Early_Blight_149.jpg', 'Early_Blight_531.jpg', 'Early_Blight_672.jpg', 'Early_Blight_604.jpg', 'Early_Blight_583.jpg', 'Early_Blight_49.jpg', 'Early_Blight_394.jpg', 'Early_Blight_46.jpg', 'Early_Blight_684.jpg', 'Early_Blight_1003.jpg', 'Early_Blight_748.jpg', 'Early_Blight_195.jpg', 'Early_Blight_978.jpg', 'Early_Blight_476.jpg', 'Early_Blight_301.jpg', 'Early_Blight_915.jpg', 'Early_Blight_392.jpg', 'Early_Blight_159.jpg', 'Early_Blight_306.jpg', 'Early_Blight_641.jpg', 'Early_Blight_1266.jpg', 'Early_Blight_272.jpg', 'Early_Blight_638.jpg', 'Early_Blight_1144.jpg', 'Early_Blight_33.jpg', 'Early_Blight_1153.jpg', 'Early_Blight_248.jpg', 'Early_Blight_160.jpg', 'Early_Blight_69.jpg', 'Early_Blight_1022.jpg', 'Early_Blight_521.jpg', 'Early_Blight_165.jpg', 'Early_Blight_378.jpg', 'Early_Blight_1056.jpg', 'Early_Blight_718.jpg', 'Early_Blight_332.jpg', 'Early_Blight_271.jpg', 'Early_Blight_866.jpg', 'Early_Blight_673.jpg', 'Early_Blight_851.jpg', 'Early_Blight_642.jpg', 'Early_Blight_726.jpg', 'Early_Blight_1194.jpg', 'Early_Blight_670.jpg', 'Early_Blight_424.jpg', 'Early_Blight_275.jpg', 'Early_Blight_1005.jpg', 'Early_Blight_577.jpg', 'Early_Blight_665.jpg', 'Early_Blight_43.jpg', 'Early_Blight_993.jpg', 'Early_Blight_83.jpg', 'Early_Blight_637.jpg', 'Early_Blight_1058.jpg', 'Early_Blight_706.jpg', 'Early_Blight_847.jpg', 'Early_Blight_1095.jpg', 'Early_Blight_831.jpg', 'Early_Blight_350.jpg', 'Early_Blight_872.jpg', 'Early_Blight_1071.jpg', 'Early_Blight_70.jpg', 'Early_Blight_1006.jpg', 'Early_Blight_150.jpg', 'Early_Blight_810.jpg', 'Early_Blight_58.jpg', 'Early_Blight_326.jpg', 'Early_Blight_1247.jpg', 'Early_Blight_755.jpg', 'Early_Blight_723.jpg', 'Early_Blight_180.jpg', 'Early_Blight_74.jpg', 'Early_Blight_23.jpg', 'Early_Blight_55.jpg', 'Early_Blight_657.jpg', 'Early_Blight_770.jpg', 'Early_Blight_1262.jpg', 'Early_Blight_1066.jpg', 'Early_Blight_1052.jpg', 'Early_Blight_164.jpg', 'Early_Blight_765.jpg', 'Early_Blight_491.jpg', 'Early_Blight_542.jpg', 'Early_Blight_483.jpg', 'Early_Blight_1061.jpg', 'Early_Blight_855.jpg', 'Early_Blight_1185.jpg', 'Early_Blight_1259.jpg', 'Early_Blight_1063.jpg', 'Early_Blight_838.jpg', 'Early_Blight_1287.jpg', 'Early_Blight_952.jpg', 'Early_Blight_858.jpg', 'Early_Blight_1167.jpg', 'Early_Blight_232.jpg', 'Early_Blight_876.jpg', 'Early_Blight_22.jpg', 'Early_Blight_885.jpg', 'Early_Blight_268.jpg', 'Early_Blight_888.jpg', 'Early_Blight_744.jpg', 'Early_Blight_345.jpg', 'Early_Blight_423.jpg', 'Early_Blight_1197.jpg', 'Early_Blight_1103.jpg', 'Early_Blight_1124.jpg', 'Early_Blight_1276.jpg', 'Early_Blight_127.jpg', 'Early_Blight_362.jpg', 'Early_Blight_1115.jpg', 'Early_Blight_753.jpg', 'Early_Blight_76.jpg', 'Early_Blight_1234.jpg', 'Early_Blight_802.jpg', 'Early_Blight_734.jpg', 'Early_Blight_1286.jpg', 'Early_Blight_198.jpg', 'Early_Blight_204.jpg', 'Early_Blight_113.jpg', 'Early_Blight_133.jpg', 'Early_Blight_1225.jpg', 'Early_Blight_837.jpg', 'Early_Blight_883.jpg', 'Early_Blight_85.jpg', 'Early_Blight_1053.jpg', 'Early_Blight_921.jpg', 'Early_Blight_114.jpg', 'Early_Blight_1155.jpg', 'Early_Blight_379.jpg', 'Early_Blight_936.jpg', 'Early_Blight_1300.jpg', 'Early_Blight_918.jpg', 'Early_Blight_613.jpg', 'Early_Blight_890.jpg', 'Early_Blight_163.jpg', 'Early_Blight_449.jpg', 'Early_Blight_813.jpg', 'Early_Blight_5.jpg', 'Early_Blight_370.jpg', 'Early_Blight_1152.jpg', 'Early_Blight_646.jpg', 'Early_Blight_948.jpg', 'Early_Blight_188.jpg', 'Early_Blight_465.jpg', 'Early_Blight_1126.jpg', 'Early_Blight_21.jpg', 'Early_Blight_1160.jpg', 'Early_Blight_1257.jpg', 'Early_Blight_154.jpg', 'Early_Blight_908.jpg', 'Early_Blight_357.jpg', 'Early_Blight_961.jpg', 'Early_Blight_822.jpg', 'Early_Blight_1182.jpg', 'Early_Blight_845.jpg', 'Early_Blight_1224.jpg', 'Early_Blight_600.jpg', 'Early_Blight_1013.jpg', 'Early_Blight_61.jpg', 'Early_Blight_1285.jpg', 'Early_Blight_1220.jpg', 'Early_Blight_122.jpg', 'Early_Blight_826.jpg', 'Early_Blight_1170.jpg', 'Early_Blight_969.jpg', 'Early_Blight_926.jpg', 'Early_Blight_597.jpg', 'Early_Blight_1188.jpg', 'Early_Blight_517.jpg', 'Early_Blight_774.jpg', 'Early_Blight_167.jpg', 'Early_Blight_374.jpg', 'Early_Blight_773.jpg', 'Early_Blight_690.jpg', 'Early_Blight_458.jpg', 'Early_Blight_1093.jpg', 'Early_Blight_470.jpg', 'Early_Blight_906.jpg', 'Early_Blight_448.jpg', 'Early_Blight_354.jpg', 'Early_Blight_842.jpg', 'Early_Blight_1065.jpg', 'Early_Blight_480.jpg', 'Early_Blight_405.jpg', 'Early_Blight_994.jpg', 'Early_Blight_607.jpg', 'Early_Blight_692.jpg', 'Early_Blight_761.jpg', 'Early_Blight_1280.jpg', 'Early_Blight_535.jpg', 'Early_Blight_304.jpg', 'Early_Blight_922.jpg', 'Early_Blight_442.jpg', 'Early_Blight_683.jpg', 'Early_Blight_236.jpg', 'Early_Blight_954.jpg', 'Early_Blight_1116.jpg', 'Early_Blight_324.jpg', 'Early_Blight_126.jpg', 'Early_Blight_1075.jpg', 'Early_Blight_733.jpg', 'Early_Blight_513.jpg', 'Early_Blight_1050.jpg', 'Early_Blight_225.jpg', 'Early_Blight_801.jpg', 'Early_Blight_794.jpg', 'Early_Blight_312.jpg', 'Early_Blight_1191.jpg', 'Early_Blight_957.jpg', 'Early_Blight_700.jpg', 'Early_Blight_545.jpg', 'Early_Blight_1256.jpg', 'Early_Blight_572.jpg', 'Early_Blight_329.jpg', 'Early_Blight_515.jpg', 'Early_Blight_905.jpg', 'Early_Blight_631.jpg', 'Early_Blight_1092.jpg', 'Early_Blight_522.jpg', 'Early_Blight_933.jpg', 'Early_Blight_209.jpg', 'Early_Blight_1228.jpg', 'Early_Blight_981.jpg', 'Early_Blight_824.jpg', 'Early_Blight_816.jpg', 'Early_Blight_971.jpg', 'Early_Blight_260.jpg', 'Early_Blight_869.jpg', 'Early_Blight_309.jpg', 'Early_Blight_235.jpg', 'Early_Blight_940.jpg', 'Early_Blight_520.jpg', 'Early_Blight_1055.jpg', 'Early_Blight_1186.jpg', 'Early_Blight_1057.jpg', 'Early_Blight_630.jpg', 'Early_Blight_1229.jpg', 'Early_Blight_409.jpg', 'Early_Blight_846.jpg', 'Early_Blight_1180.jpg', 'Early_Blight_1033.jpg', 'Early_Blight_652.jpg', 'Early_Blight_386.jpg', 'Early_Blight_124.jpg', 'Early_Blight_187.jpg', 'Early_Blight_571.jpg', 'Early_Blight_814.jpg', 'Early_Blight_177.jpg', 'Early_Blight_1062.jpg', 'Early_Blight_294.jpg', 'Early_Blight_318.jpg', 'Early_Blight_267.jpg', 'Early_Blight_285.jpg', 'Early_Blight_51.jpg', 'Early_Blight_812.jpg', 'Early_Blight_253.jpg', 'Early_Blight_1068.jpg', 'Early_Blight_407.jpg', 'Early_Blight_178.jpg', 'Early_Blight_103.jpg', 'Early_Blight_276.jpg', 'Early_Blight_140.jpg', 'Early_Blight_381.jpg', 'Early_Blight_558.jpg', 'Early_Blight_14.jpg', 'Early_Blight_1241.jpg', 'Early_Blight_586.jpg', 'Early_Blight_38.jpg', 'Early_Blight_1271.jpg', 'Early_Blight_730.jpg', 'Early_Blight_924.jpg', 'Early_Blight_645.jpg', 'Early_Blight_803.jpg', 'Early_Blight_468.jpg', 'Early_Blight_751.jpg', 'Early_Blight_459.jpg', 'Early_Blight_34.jpg', 'Early_Blight_181.jpg', 'Early_Blight_935.jpg', 'Early_Blight_815.jpg', 'Early_Blight_283.jpg', 'Early_Blight_153.jpg', 'Early_Blight_529.jpg', 'Early_Blight_1134.jpg', 'Early_Blight_28.jpg', 'Early_Blight_29.jpg', 'Early_Blight_928.jpg', 'Early_Blight_942.jpg', 'Early_Blight_1148.jpg', 'Early_Blight_1064.jpg', 'Early_Blight_1017.jpg', 'Early_Blight_627.jpg', 'Early_Blight_106.jpg', 'Early_Blight_932.jpg', 'Early_Blight_254.jpg', 'Early_Blight_24.jpg', 'Early_Blight_467.jpg', 'Early_Blight_105.jpg', 'Early_Blight_540.jpg', 'Early_Blight_269.jpg', 'Early_Blight_90.jpg', 'Early_Blight_946.jpg', 'Early_Blight_551.jpg', 'Early_Blight_1085.jpg', 'Early_Blight_99.jpg', 'Early_Blight_422.jpg', 'Early_Blight_1297.jpg', 'Early_Blight_1240.jpg', 'Early_Blight_336.jpg', 'Early_Blight_293.jpg', 'Early_Blight_966.jpg', 'Early_Blight_120.jpg', 'Early_Blight_547.jpg', 'Early_Blight_1067.jpg', 'Early_Blight_319.jpg', 'Early_Blight_315.jpg', 'Early_Blight_1099.jpg', 'Early_Blight_182.jpg', 'Early_Blight_277.jpg', 'Early_Blight_107.jpg', 'Early_Blight_79.jpg', 'Early_Blight_818.jpg', 'Early_Blight_678.jpg', 'Early_Blight_123.jpg', 'Early_Blight_245.jpg', 'Early_Blight_1252.jpg', 'Early_Blight_72.jpg', 'Early_Blight_610.jpg', 'Early_Blight_1089.jpg', 'Early_Blight_995.jpg', 'Early_Blight_450.jpg', 'Early_Blight_819.jpg', 'Early_Blight_563.jpg', 'Early_Blight_233.jpg', 'Early_Blight_281.jpg', 'Early_Blight_112.jpg', 'Early_Blight_526.jpg', 'Early_Blight_874.jpg', 'Early_Blight_1080.jpg', 'Early_Blight_447.jpg', 'Early_Blight_1035.jpg', 'Early_Blight_415.jpg', 'Early_Blight_680.jpg', 'Early_Blight_591.jpg', 'Early_Blight_821.jpg', 'Early_Blight_208.jpg', 'Early_Blight_1030.jpg', 'Early_Blight_327.jpg', 'Early_Blight_980.jpg', 'Early_Blight_1218.jpg', 'Early_Blight_456.jpg', 'Early_Blight_89.jpg', 'Early_Blight_1141.jpg', 'Early_Blight_573.jpg', 'Early_Blight_976.jpg', 'Early_Blight_891.jpg', 'Early_Blight_840.jpg', 'Early_Blight_689.jpg', 'Early_Blight_675.jpg', 'Early_Blight_669.jpg', 'Early_Blight_552.jpg', 'Early_Blight_698.jpg', 'Early_Blight_489.jpg', 'Early_Blight_835.jpg', 'Early_Blight_413.jpg', 'Early_Blight_844.jpg', 'Early_Blight_334.jpg', 'Early_Blight_746.jpg', 'Early_Blight_172.jpg', 'Early_Blight_57.jpg', 'Early_Blight_651.jpg', 'Early_Blight_116.jpg', 'Early_Blight_171.jpg', 'Early_Blight_356.jpg', 'Early_Blight_207.jpg', 'Early_Blight_1283.jpg', 'Early_Blight_609.jpg', 'Early_Blight_970.jpg', 'Early_Blight_506.jpg', 'Early_Blight_42.jpg', 'Early_Blight_1208.jpg', 'Early_Blight_482.jpg', 'Early_Blight_454.jpg', 'Early_Blight_1046.jpg', 'Early_Blight_510.jpg', 'Early_Blight_625.jpg', 'Early_Blight_1176.jpg', 'Early_Blight_307.jpg', 'Early_Blight_805.jpg', 'Early_Blight_920.jpg', 'Early_Blight_98.jpg', 'Early_Blight_508.jpg', 'Early_Blight_141.jpg', 'Early_Blight_503.jpg', 'Early_Blight_441.jpg', 'Early_Blight_879.jpg', 'Early_Blight_1021.jpg', 'Early_Blight_426.jpg', 'Early_Blight_4.jpg', 'Early_Blight_766.jpg', 'Early_Blight_1136.jpg', 'Early_Blight_472.jpg', 'Early_Blight_111.jpg', 'Early_Blight_984.jpg', 'Early_Blight_693.jpg', 'Early_Blight_11.jpg', 'Early_Blight_222.jpg', 'Early_Blight_1077.jpg', 'Early_Blight_1060.jpg', 'Early_Blight_314.jpg', 'Early_Blight_1001.jpg', 'Early_Blight_403.jpg', 'Early_Blight_1159.jpg', 'Early_Blight_463.jpg', 'Early_Blight_212.jpg', 'Early_Blight_1009.jpg', 'Early_Blight_628.jpg', 'Early_Blight_1268.jpg', 'Early_Blight_1015.jpg', 'Early_Blight_768.jpg', 'Early_Blight_395.jpg', 'Early_Blight_602.jpg', 'Early_Blight_1281.jpg', 'Early_Blight_402.jpg', 'Early_Blight_894.jpg', 'Early_Blight_400.jpg', 'Early_Blight_973.jpg', 'Early_Blight_737.jpg', 'Early_Blight_1301.jpg', 'Early_Blight_371.jpg', 'Early_Blight_923.jpg', 'Early_Blight_1250.jpg', 'Early_Blight_1039.jpg', 'Early_Blight_1004.jpg', 'Early_Blight_756.jpg', 'Early_Blight_284.jpg', 'Early_Blight_437.jpg', 'Early_Blight_775.jpg', 'Early_Blight_988.jpg', 'Early_Blight_475.jpg', 'Early_Blight_427.jpg', 'Early_Blight_1198.jpg', 'Early_Blight_452.jpg', 'Early_Blight_1171.jpg', 'Early_Blight_789.jpg', 'Early_Blight_210.jpg', 'Early_Blight_986.jpg', 'Early_Blight_355.jpg', 'Early_Blight_704.jpg', 'Early_Blight_707.jpg', 'Early_Blight_612.jpg', 'Early_Blight_772.jpg', 'Early_Blight_1108.jpg', 'Early_Blight_1303.jpg', 'Early_Blight_1245.jpg', 'Early_Blight_1042.jpg', 'Early_Blight_1010.jpg', 'Early_Blight_870.jpg', 'Early_Blight_587.jpg', 'Early_Blight_273.jpg', 'Early_Blight_1048.jpg', 'Early_Blight_1253.jpg', 'Early_Blight_377.jpg', 'Early_Blight_945.jpg', 'Early_Blight_445.jpg', 'Early_Blight_1248.jpg', 'Early_Blight_850.jpg', 'Early_Blight_621.jpg', 'Early_Blight_705.jpg', 'Early_Blight_496.jpg', 'Early_Blight_654.jpg', 'Early_Blight_56.jpg', 'Early_Blight_369.jpg', 'Early_Blight_282.jpg', 'Early_Blight_1279.jpg', 'Early_Blight_94.jpg', 'Early_Blight_1173.jpg', 'Early_Blight_1201.jpg', 'Early_Blight_1232.jpg', 'Early_Blight_727.jpg', 'Early_Blight_533.jpg', 'Early_Blight_455.jpg', 'Early_Blight_1019.jpg', 'Early_Blight_965.jpg', 'Early_Blight_1150.jpg', 'Early_Blight_196.jpg', 'Early_Blight_1090.jpg', 'Early_Blight_75.jpg', 'Early_Blight_898.jpg', 'Early_Blight_498.jpg', 'Early_Blight_1139.jpg', 'Early_Blight_817.jpg', 'Early_Blight_1249.jpg', 'Early_Blight_121.jpg', 'Early_Blight_443.jpg', 'Early_Blight_430.jpg', 'Early_Blight_414.jpg', 'Early_Blight_211.jpg', 'Early_Blight_696.jpg', 'Early_Blight_397.jpg', 'Early_Blight_1237.jpg', 'Early_Blight_10.jpg', 'Early_Blight_73.jpg', 'Early_Blight_615.jpg', 'Early_Blight_1177.jpg', 'Early_Blight_396.jpg', 'Early_Blight_351.jpg', 'Early_Blight_598.jpg', 'Early_Blight_259.jpg', 'Early_Blight_880.jpg', 'Early_Blight_507.jpg', 'Early_Blight_6.jpg', 'Early_Blight_991.jpg', 'Early_Blight_435.jpg', 'Early_Blight_1082.jpg', 'Early_Blight_752.jpg', 'Early_Blight_170.jpg', 'Early_Blight_7.jpg', 'Early_Blight_477.jpg', 'Early_Blight_1274.jpg', 'Early_Blight_416.jpg', 'Early_Blight_109.jpg', 'Early_Blight_380.jpg', 'Early_Blight_256.jpg', 'Early_Blight_390.jpg', 'Early_Blight_495.jpg', 'Early_Blight_325.jpg', 'Early_Blight_776.jpg', 'Early_Blight_732.jpg', 'Early_Blight_471.jpg', 'Early_Blight_148.jpg', 'Early_Blight_431.jpg', 'Early_Blight_958.jpg', 'Early_Blight_714.jpg', 'Early_Blight_316.jpg', 'Early_Blight_146.jpg', 'Early_Blight_639.jpg', 'Early_Blight_996.jpg', 'Early_Blight_398.jpg', 'Early_Blight_251.jpg', 'Early_Blight_685.jpg', 'Early_Blight_873.jpg', 'Early_Blight_968.jpg', 'Early_Blight_716.jpg', 'Early_Blight_1293.jpg', 'Early_Blight_929.jpg', 'Early_Blight_224.jpg', 'Early_Blight_1192.jpg', 'Early_Blight_974.jpg', 'Early_Blight_989.jpg', 'Early_Blight_875.jpg', 'Early_Blight_1166.jpg', 'Early_Blight_549.jpg', 'Early_Blight_580.jpg', 'Early_Blight_963.jpg', 'Early_Blight_406.jpg', 'Early_Blight_626.jpg', 'Early_Blight_1244.jpg', 'Early_Blight_295.jpg', 'Early_Blight_1184.jpg', 'Early_Blight_582.jpg', 'Early_Blight_1083.jpg', 'Early_Blight_938.jpg', 'Early_Blight_1028.jpg', 'Early_Blight_913.jpg', 'Early_Blight_1109.jpg', 'Early_Blight_836.jpg', 'Early_Blight_1112.jpg', 'Early_Blight_258.jpg', 'Early_Blight_681.jpg', 'Early_Blight_1106.jpg', 'Early_Blight_769.jpg', 'Early_Blight_242.jpg', 'Early_Blight_636.jpg', 'Early_Blight_434.jpg', 'Early_Blight_432.jpg', 'Early_Blight_795.jpg', 'Early_Blight_401.jpg', 'Early_Blight_179.jpg', 'Early_Blight_1193.jpg', 'Early_Blight_93.jpg', 'Early_Blight_655.jpg', 'Early_Blight_297.jpg', 'Early_Blight_1016.jpg', 'Early_Blight_50.jpg', 'Early_Blight_92.jpg', 'Early_Blight_721.jpg', 'Early_Blight_215.jpg', 'Early_Blight_825.jpg', 'Early_Blight_151.jpg', 'Early_Blight_959.jpg', 'Early_Blight_1076.jpg', 'Early_Blight_1272.jpg', 'Early_Blight_907.jpg', 'Early_Blight_736.jpg', 'Early_Blight_1096.jpg', 'Early_Blight_490.jpg', 'Early_Blight_1008.jpg', 'Early_Blight_648.jpg', 'Early_Blight_576.jpg', 'Early_Blight_341.jpg', 'Early_Blight_979.jpg', 'Early_Blight_1154.jpg', 'Early_Blight_384.jpg', 'Early_Blight_337.jpg', 'Early_Blight_138.jpg', 'Early_Blight_104.jpg', 'Early_Blight_338.jpg', 'Early_Blight_865.jpg', 'Early_Blight_347.jpg', 'Early_Blight_516.jpg', 'Early_Blight_169.jpg', 'Early_Blight_1195.jpg', 'Early_Blight_882.jpg', 'Early_Blight_499.jpg', 'Early_Blight_131.jpg', 'Early_Blight_39.jpg', 'Early_Blight_534.jpg', 'Early_Blight_31.jpg', 'Early_Blight_561.jpg', 'Early_Blight_135.jpg', 'Early_Blight_1147.jpg', 'Early_Blight_194.jpg', 'Early_Blight_848.jpg', 'Early_Blight_975.jpg', 'Early_Blight_889.jpg', 'Early_Blight_1211.jpg', 'Early_Blight_20.jpg', 'Early_Blight_36.jpg', 'Early_Blight_322.jpg', 'Early_Blight_944.jpg', 'Early_Blight_1290.jpg', 'Early_Blight_1040.jpg', 'Early_Blight_53.jpg', 'Early_Blight_175.jpg', 'Early_Blight_32.jpg', 'Early_Blight_1298.jpg', 'Early_Blight_262.jpg', 'Early_Blight_530.jpg', 'Early_Blight_608.jpg', 'Early_Blight_722.jpg', 'Early_Blight_1094.jpg', 'Early_Blight_784.jpg', 'Early_Blight_543.jpg', 'Early_Blight_425.jpg', 'Early_Blight_134.jpg', 'Early_Blight_1217.jpg', 'Early_Blight_868.jpg', 'Early_Blight_1284.jpg', 'Early_Blight_330.jpg', 'Early_Blight_647.jpg', 'Early_Blight_562.jpg', 'Early_Blight_417.jpg', 'Early_Blight_497.jpg', 'Early_Blight_240.jpg', 'Early_Blight_228.jpg', 'Early_Blight_1151.jpg', 'Early_Blight_827.jpg', 'Early_Blight_1226.jpg', 'Early_Blight_781.jpg', 'Early_Blight_854.jpg', 'Early_Blight_1199.jpg', 'Early_Blight_536.jpg', 'Early_Blight_439.jpg', 'Early_Blight_1084.jpg', 'Early_Blight_66.jpg', 'Early_Blight_1123.jpg', 'Early_Blight_481.jpg', 'Early_Blight_1038.jpg', 'Early_Blight_1043.jpg', 'Early_Blight_900.jpg', 'Early_Blight_372.jpg', 'Early_Blight_265.jpg', 'Early_Blight_62.jpg', 'Early_Blight_972.jpg', 'Early_Blight_18.jpg', 'Early_Blight_949.jpg', 'Early_Blight_203.jpg', 'Early_Blight_762.jpg', 'Early_Blight_223.jpg', 'Early_Blight_485.jpg', 'Early_Blight_1236.jpg', 'Early_Blight_373.jpg', 'Early_Blight_992.jpg', 'Early_Blight_524.jpg', 'Early_Blight_1070.jpg', 'Early_Blight_342.jpg', 'Early_Blight_82.jpg', 'Early_Blight_16.jpg', 'Early_Blight_886.jpg', 'Early_Blight_239.jpg', 'Early_Blight_702.jpg', 'Early_Blight_537.jpg', 'Early_Blight_1258.jpg', 'Early_Blight_1174.jpg', 'Early_Blight_263.jpg', 'Early_Blight_96.jpg', 'Early_Blight_793.jpg', 'Early_Blight_914.jpg', 'Early_Blight_538.jpg', 'Early_Blight_754.jpg', 'Early_Blight_650.jpg', 'Early_Blight_185.jpg', 'Early_Blight_990.jpg', 'Early_Blight_399.jpg', 'Early_Blight_317.jpg', 'Early_Blight_250.jpg', 'Early_Blight_478.jpg', 'Early_Blight_1102.jpg', 'Early_Blight_328.jpg', 'Early_Blight_741.jpg', 'Early_Blight_128.jpg', 'Early_Blight_1209.jpg', 'Early_Blight_1140.jpg', 'Early_Blight_420.jpg', 'Early_Blight_567.jpg', 'Early_Blight_525.jpg', 'Early_Blight_1146.jpg', 'Early_Blight_84.jpg', 'Early_Blight_712.jpg', 'Early_Blight_709.jpg', 'Early_Blight_579.jpg', 'Early_Blight_1233.jpg', 'Early_Blight_881.jpg', 'Early_Blight_758.jpg', 'Early_Blight_560.jpg', 'Early_Blight_1117.jpg', 'Early_Blight_45.jpg', 'Early_Blight_291.jpg', 'Early_Blight_1230.jpg', 'Early_Blight_87.jpg', 'Early_Blight_519.jpg', 'Early_Blight_611.jpg', 'Early_Blight_67.jpg', 'Early_Blight_541.jpg', 'Early_Blight_1273.jpg', 'Early_Blight_308.jpg', 'Early_Blight_917.jpg', 'Early_Blight_622.jpg', 'Early_Blight_433.jpg', 'Early_Blight_983.jpg', 'Early_Blight_1206.jpg', 'Early_Blight_581.jpg', 'Early_Blight_1133.jpg', 'Early_Blight_676.jpg', 'Early_Blight_771.jpg', 'Early_Blight_617.jpg', 'Early_Blight_1128.jpg', 'Early_Blight_1255.jpg', 'Early_Blight_229.jpg', 'Early_Blight_934.jpg', 'Early_Blight_1216.jpg', 'Early_Blight_97.jpg', 'Early_Blight_1025.jpg', 'Early_Blight_1012.jpg', 'Early_Blight_578.jpg', 'Early_Blight_353.jpg', 'Early_Blight_790.jpg', 'Early_Blight_466.jpg', 'Early_Blight_780.jpg', 'Early_Blight_556.jpg', 'Early_Blight_299.jpg', 'Early_Blight_1196.jpg', 'Early_Blight_1207.jpg', 'Early_Blight_1054.jpg', 'Early_Blight_484.jpg', 'Early_Blight_1251.jpg', 'Early_Blight_1215.jpg', 'Early_Blight_488.jpg', 'Early_Blight_528.jpg', 'Early_Blight_999.jpg', 'Early_Blight_155.jpg', 'Early_Blight_1212.jpg', 'Early_Blight_887.jpg', 'Early_Blight_823.jpg', 'Early_Blight_710.jpg', 'Early_Blight_186.jpg', 'Early_Blight_192.jpg', 'Early_Blight_1189.jpg', 'Early_Blight_892.jpg', 'Early_Blight_1007.jpg', 'Early_Blight_64.jpg', 'Early_Blight_1100.jpg', 'Early_Blight_418.jpg', 'Early_Blight_514.jpg', 'Early_Blight_190.jpg', 'Early_Blight_1018.jpg', 'Early_Blight_1031.jpg', 'Early_Blight_1214.jpg', 'Early_Blight_1059.jpg', 'Early_Blight_139.jpg', 'Early_Blight_176.jpg', 'Early_Blight_703.jpg', 'Early_Blight_697.jpg', 'Early_Blight_411.jpg', 'Early_Blight_278.jpg', 'Early_Blight_436.jpg', 'Early_Blight_899.jpg', 'Early_Blight_1299.jpg', 'Early_Blight_25.jpg', 'Early_Blight_266.jpg', 'Early_Blight_505.jpg', 'Early_Blight_1142.jpg', 'Early_Blight_487.jpg', 'Early_Blight_809.jpg', 'Early_Blight_54.jpg', 'Early_Blight_1264.jpg', 'Early_Blight_550.jpg', 'Early_Blight_1041.jpg', 'Early_Blight_760.jpg', 'Early_Blight_717.jpg', 'Early_Blight_52.jpg', 'Early_Blight_1101.jpg', 'Early_Blight_666.jpg', 'Early_Blight_340.jpg', 'Early_Blight_939.jpg', 'Early_Blight_302.jpg', 'Early_Blight_1098.jpg', 'Early_Blight_1051.jpg', 'Early_Blight_616.jpg', 'Early_Blight_12.jpg', 'Early_Blight_575.jpg', 'Early_Blight_59.jpg', 'Early_Blight_1143.jpg', 'Early_Blight_237.jpg', 'Early_Blight_1168.jpg', 'Early_Blight_640.jpg', 'Early_Blight_202.jpg', 'Early_Blight_183.jpg', 'Early_Blight_595.jpg', 'Early_Blight_619.jpg', 'Early_Blight_1200.jpg', 'Early_Blight_1130.jpg', 'Early_Blight_1270.jpg', 'Early_Blight_246.jpg', 'Early_Blight_1242.jpg', 'Early_Blight_783.jpg', 'Early_Blight_174.jpg', 'Early_Blight_461.jpg', 'Early_Blight_763.jpg', 'Early_Blight_1157.jpg', 'Early_Blight_1165.jpg', 'Early_Blight_419.jpg', 'Early_Blight_1029.jpg', 'Early_Blight_462.jpg', 'Early_Blight_238.jpg', 'Early_Blight_1074.jpg', 'Early_Blight_919.jpg', 'Early_Blight_985.jpg', 'Early_Blight_739.jpg', 'Early_Blight_1187.jpg', 'Early_Blight_9.jpg', 'Early_Blight_428.jpg', 'Early_Blight_688.jpg', 'Early_Blight_606.jpg', 'Early_Blight_656.jpg', 'Early_Blight_360.jpg', 'Early_Blight_385.jpg', 'Early_Blight_767.jpg', 'Early_Blight_1219.jpg', 'Early_Blight_393.jpg', 'Early_Blight_1156.jpg', 'Early_Blight_158.jpg', 'Early_Blight_566.jpg', 'Early_Blight_1162.jpg', 'Early_Blight_518.jpg', 'Early_Blight_686.jpg', 'Early_Blight_287.jpg', 'Early_Blight_644.jpg', 'Early_Blight_605.jpg', 'Early_Blight_953.jpg', 'Early_Blight_161.jpg', 'Early_Blight_205.jpg', 'Early_Blight_144.jpg', 'Early_Blight_1239.jpg', 'Early_Blight_512.jpg', 'Early_Blight_451.jpg', 'Early_Blight_634.jpg', 'Early_Blight_658.jpg', 'Early_Blight_1288.jpg', 'Early_Blight_359.jpg', 'Early_Blight_1296.jpg', 'Early_Blight_1221.jpg', 'Early_Blight_387.jpg', 'Early_Blight_633.jpg', 'Early_Blight_102.jpg', 'Early_Blight_797.jpg', 'Early_Blight_68.jpg', 'Early_Blight_632.jpg', 'Early_Blight_216.jpg', 'Early_Blight_201.jpg', 'Early_Blight_779.jpg', 'Early_Blight_553.jpg', 'Early_Blight_911.jpg', 'Early_Blight_361.jpg', 'Early_Blight_339.jpg', 'Early_Blight_659.jpg', 'Early_Blight_364.jpg', 'Early_Blight_157.jpg', 'Early_Blight_1125.jpg', 'Early_Blight_1073.jpg', 'Early_Blight_1032.jpg', 'Early_Blight_217.jpg', 'Early_Blight_438.jpg', 'Early_Blight_731.jpg', 'Early_Blight_1261.jpg', 'Early_Blight_143.jpg', 'Early_Blight_1086.jpg', 'Early_Blight_365.jpg', 'Early_Blight_828.jpg', 'Early_Blight_1024.jpg', 'Early_Blight_956.jpg', 'Early_Blight_1238.jpg', 'Early_Blight_473.jpg', 'Early_Blight_742.jpg', 'Early_Blight_494.jpg', 'Early_Blight_136.jpg', 'Early_Blight_997.jpg', 'Early_Blight_274.jpg', 'Early_Blight_594.jpg', 'Early_Blight_679.jpg', 'Early_Blight_383.jpg']\n"
          ]
        }
      ]
    },
    {
      "cell_type": "code",
      "source": [
        "x_train=[]"
      ],
      "metadata": {
        "id": "KeBmRS4WxwY4"
      },
      "execution_count": 5,
      "outputs": []
    },
    {
      "cell_type": "code",
      "source": [
        "for image in train_list:\n",
        "    image_path=os.path.join(train_path,image)\n",
        "    img_cv2 = cv2.imread(image_path, cv2.IMREAD_UNCHANGED)\n",
        "    img_cv2 = cv2.resize(img_cv2, (128, 128))\n",
        "    img_cv2 = img_cv2 / 255.0\n",
        "    x_train.append(img_cv2)"
      ],
      "metadata": {
        "id": "Ud0WOQqbvEaj"
      },
      "execution_count": 6,
      "outputs": []
    },
    {
      "cell_type": "code",
      "source": [
        "train_path='/content/unzipped_folder/Training/Healthy'\n",
        "train_list2=os.listdir(train_path)"
      ],
      "metadata": {
        "id": "fqNbshA8vyTi"
      },
      "execution_count": 7,
      "outputs": []
    },
    {
      "cell_type": "code",
      "source": [
        "for image in train_list2:\n",
        "    image_path=os.path.join(train_path,image)\n",
        "    img_cv2 = cv2.imread(image_path, cv2.IMREAD_UNCHANGED)\n",
        "    img_cv2 = cv2.resize(img_cv2, (128, 128))\n",
        "    img_cv2 = img_cv2 / 255.0\n",
        "    x_train.append(img_cv2)"
      ],
      "metadata": {
        "id": "r_x8hq0Sx9tp"
      },
      "execution_count": 8,
      "outputs": []
    },
    {
      "cell_type": "code",
      "source": [
        "train_path='/content/unzipped_folder/Testing/Healthy'\n",
        "train_list2=os.listdir(train_path)\n",
        "print(len(train_list2))"
      ],
      "metadata": {
        "colab": {
          "base_uri": "https://localhost:8080/"
        },
        "id": "ygN0CWkj1j3O",
        "outputId": "380f6435-12de-44d9-e0e3-4524cd7352ab"
      },
      "execution_count": 21,
      "outputs": [
        {
          "output_type": "stream",
          "name": "stdout",
          "text": [
            "102\n"
          ]
        }
      ]
    },
    {
      "cell_type": "code",
      "source": [
        "for image in train_list2:\n",
        "    image_path=os.path.join(train_path,image)\n",
        "    img_cv2 = cv2.imread(image_path, cv2.IMREAD_UNCHANGED)\n",
        "    img_cv2 = cv2.resize(img_cv2, (128, 128))\n",
        "    img_cv2 = img_cv2 / 255.0\n",
        "    x_test.append(img_cv2)"
      ],
      "metadata": {
        "id": "H8vBlAin1pVu"
      },
      "execution_count": 22,
      "outputs": []
    },
    {
      "cell_type": "code",
      "source": [
        "train_path='/content/unzipped_folder/Training/Late_Blight'\n",
        "train_list3=os.listdir(train_path)\n",
        "for image in train_list3:\n",
        "    image_path=os.path.join(train_path,image)\n",
        "    img_cv2 = cv2.imread(image_path, cv2.IMREAD_UNCHANGED)\n",
        "    img_cv2 = cv2.resize(img_cv2, (128, 128))\n",
        "    img_cv2 = img_cv2 / 255.0\n",
        "    x_train.append(img_cv2)\n"
      ],
      "metadata": {
        "id": "xZRvEhvVx-Mo"
      },
      "execution_count": 9,
      "outputs": []
    },
    {
      "cell_type": "code",
      "source": [
        "train_path='/content/unzipped_folder/Testing/Late_Blight'\n",
        "train_list3=os.listdir(train_path)\n",
        "print(len(train_list3))\n",
        "for image in train_list3:\n",
        "    image_path=os.path.join(train_path,image)\n",
        "    img_cv2 = cv2.imread(image_path, cv2.IMREAD_UNCHANGED)\n",
        "    img_cv2 = cv2.resize(img_cv2, (128, 128))\n",
        "    img_cv2 = img_cv2 / 255.0\n",
        "    x_test.append(img_cv2)"
      ],
      "metadata": {
        "colab": {
          "base_uri": "https://localhost:8080/"
        },
        "id": "1FMdvKO72K6S",
        "outputId": "365b9d2a-f302-4b39-edf0-89d1ebe8298c"
      },
      "execution_count": 23,
      "outputs": [
        {
          "output_type": "stream",
          "name": "stdout",
          "text": [
            "141\n"
          ]
        }
      ]
    },
    {
      "cell_type": "code",
      "source": [
        "y_train=[]\n",
        "for i in range(1303):\n",
        "  y_train.append(0)\n",
        "for j in range(816):\n",
        "  y_train.append(1)\n",
        "for k in range(1132):\n",
        "  y_train.append(2)"
      ],
      "metadata": {
        "id": "H_pvdAvShBJh"
      },
      "execution_count": 10,
      "outputs": []
    },
    {
      "cell_type": "code",
      "source": [
        "y_test=[]\n",
        "for i in range(162):\n",
        "  y_test.append(0)\n",
        "for j in range(102):\n",
        "  y_test.append(1)\n",
        "for k in range(141):\n",
        "  y_test.append(2)"
      ],
      "metadata": {
        "id": "-T0y0EMb2ZrJ"
      },
      "execution_count": 24,
      "outputs": []
    },
    {
      "cell_type": "code",
      "source": [
        "print(len(y_train))"
      ],
      "metadata": {
        "id": "o8yWWtRyoEAP",
        "colab": {
          "base_uri": "https://localhost:8080/"
        },
        "outputId": "026c8d7b-1cda-4027-ae89-30b4a45ee920"
      },
      "execution_count": 11,
      "outputs": [
        {
          "output_type": "stream",
          "name": "stdout",
          "text": [
            "3251\n"
          ]
        }
      ]
    },
    {
      "cell_type": "code",
      "source": [
        "x_train=np.array(x_train)"
      ],
      "metadata": {
        "id": "WE8vN59dt0i9"
      },
      "execution_count": 12,
      "outputs": []
    },
    {
      "cell_type": "code",
      "source": [
        "y_train=np.array(y_train)\n",
        "y_train=y_train.reshape(-1,1)"
      ],
      "metadata": {
        "id": "BGU13NBiuBED"
      },
      "execution_count": 13,
      "outputs": []
    },
    {
      "cell_type": "code",
      "source": [
        "from tensorflow.keras import models,Sequential,layers"
      ],
      "metadata": {
        "id": "uazugAHbuNnE"
      },
      "execution_count": 14,
      "outputs": []
    },
    {
      "cell_type": "code",
      "source": [
        "model=Sequential()\n",
        "\n",
        "model.add(layers.Conv2D(filters=32,kernel_size=(3,3),input_shape=(128,128,3),activation='relu'))\n",
        "model.add(layers.MaxPooling2D((2,2)))\n",
        "\n",
        "model.add(layers.Conv2D(filters=32,kernel_size=(3,3),activation='relu'))\n",
        "model.add(layers.MaxPooling2D((2,2)))\n",
        "\n",
        "model.add(layers.Flatten())\n",
        "\n",
        "model.add(layers.Dense(64,activation='relu'))\n",
        "\n",
        "model.add(layers.Dense(32,activation='relu'))\n",
        "\n",
        "model.add(layers.Dense(3,activation='softmax'))"
      ],
      "metadata": {
        "id": "chiWOOfyuOjY"
      },
      "execution_count": 15,
      "outputs": []
    },
    {
      "cell_type": "code",
      "source": [
        "model.compile(optimizer='adam',loss='sparse_categorical_crossentropy',metrics=['accuracy'])"
      ],
      "metadata": {
        "id": "vdKx9bRsuU8j"
      },
      "execution_count": 16,
      "outputs": []
    },
    {
      "cell_type": "code",
      "source": [
        "model.fit(x_train,y_train,epochs=10,batch_size=64)"
      ],
      "metadata": {
        "colab": {
          "base_uri": "https://localhost:8080/"
        },
        "id": "w3oNvmSLuY86",
        "outputId": "3ebc24a9-9501-4da4-a5fe-50ea05d0ebee"
      },
      "execution_count": 18,
      "outputs": [
        {
          "output_type": "stream",
          "name": "stdout",
          "text": [
            "Epoch 1/10\n",
            "51/51 [==============================] - 60s 1s/step - loss: 0.7385 - accuracy: 0.6841\n",
            "Epoch 2/10\n",
            "51/51 [==============================] - 63s 1s/step - loss: 0.5469 - accuracy: 0.7816\n",
            "Epoch 3/10\n",
            "51/51 [==============================] - 57s 1s/step - loss: 0.4221 - accuracy: 0.8465\n",
            "Epoch 4/10\n",
            "51/51 [==============================] - 59s 1s/step - loss: 0.3486 - accuracy: 0.8733\n",
            "Epoch 5/10\n",
            "51/51 [==============================] - 60s 1s/step - loss: 0.2981 - accuracy: 0.8911\n",
            "Epoch 6/10\n",
            "51/51 [==============================] - 58s 1s/step - loss: 0.2097 - accuracy: 0.9323\n",
            "Epoch 7/10\n",
            "51/51 [==============================] - 62s 1s/step - loss: 0.1661 - accuracy: 0.9449\n",
            "Epoch 8/10\n",
            "51/51 [==============================] - 63s 1s/step - loss: 0.1603 - accuracy: 0.9456\n",
            "Epoch 9/10\n",
            "51/51 [==============================] - 61s 1s/step - loss: 0.1189 - accuracy: 0.9643\n",
            "Epoch 10/10\n",
            "51/51 [==============================] - 60s 1s/step - loss: 0.0809 - accuracy: 0.9760\n"
          ]
        },
        {
          "output_type": "execute_result",
          "data": {
            "text/plain": [
              "<keras.src.callbacks.History at 0x7ea9be5dbdc0>"
            ]
          },
          "metadata": {},
          "execution_count": 18
        }
      ]
    },
    {
      "cell_type": "code",
      "source": [
        "x_test=np.array(x_test)\n",
        "y_test=np.array(y_test)\n",
        "model.evaluate(x_test,y_test)"
      ],
      "metadata": {
        "colab": {
          "base_uri": "https://localhost:8080/"
        },
        "id": "EtwxQ9l3zEHr",
        "outputId": "b6f7593f-7ffc-443b-bc8b-441e36de0042"
      },
      "execution_count": 26,
      "outputs": [
        {
          "output_type": "stream",
          "name": "stdout",
          "text": [
            "13/13 [==============================] - 2s 127ms/step - loss: 0.3220 - accuracy: 0.8815\n"
          ]
        },
        {
          "output_type": "execute_result",
          "data": {
            "text/plain": [
              "[0.3220421373844147, 0.8814814686775208]"
            ]
          },
          "metadata": {},
          "execution_count": 26
        }
      ]
    },
    {
      "cell_type": "code",
      "source": [
        "y_pred=model.predict(x_test)"
      ],
      "metadata": {
        "colab": {
          "base_uri": "https://localhost:8080/"
        },
        "id": "7IvwihTo4eNh",
        "outputId": "573a6e54-fc89-436a-f310-951701ef3cec"
      },
      "execution_count": 28,
      "outputs": [
        {
          "output_type": "stream",
          "name": "stdout",
          "text": [
            "13/13 [==============================] - 2s 150ms/step\n"
          ]
        }
      ]
    },
    {
      "cell_type": "code",
      "source": [
        "y_pred_labels = np.argmax(y_pred, axis=1)"
      ],
      "metadata": {
        "id": "7xPnwnyp4-lp"
      },
      "execution_count": 30,
      "outputs": []
    },
    {
      "cell_type": "code",
      "source": [
        "from sklearn.metrics import classification_report\n",
        "print(classification_report(y_test,y_pred_labels))"
      ],
      "metadata": {
        "colab": {
          "base_uri": "https://localhost:8080/"
        },
        "id": "jC0dirsL33fR",
        "outputId": "82847944-ed9e-4ead-da49-079d7c67a6ce"
      },
      "execution_count": 32,
      "outputs": [
        {
          "output_type": "stream",
          "name": "stdout",
          "text": [
            "              precision    recall  f1-score   support\n",
            "\n",
            "           0       0.89      0.89      0.89       162\n",
            "           1       0.89      0.82      0.86       102\n",
            "           2       0.86      0.91      0.89       141\n",
            "\n",
            "    accuracy                           0.88       405\n",
            "   macro avg       0.88      0.88      0.88       405\n",
            "weighted avg       0.88      0.88      0.88       405\n",
            "\n"
          ]
        }
      ]
    }
  ]
}