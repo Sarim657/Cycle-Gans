{
  "nbformat": 4,
  "nbformat_minor": 0,
  "metadata": {
    "colab": {
      "provenance": []
    },
    "kernelspec": {
      "name": "python3",
      "display_name": "Python 3"
    },
    "language_info": {
      "name": "python"
    }
  },
  "cells": [
    {
      "cell_type": "markdown",
      "source": [
        "# Part B (Neural Network from Scratch)"
      ],
      "metadata": {
        "id": "N8VDe2CfGe1C"
      }
    },
    {
      "cell_type": "markdown",
      "source": [
        "You need to implement a neural network from scratch .This is a multiclass classification problem. No. of hidden layers depends on you but should be atleast 2.Remember to use activation function. You can add any other function of your choice."
      ],
      "metadata": {
        "id": "XWcVTpevGpfs"
      }
    },
    {
      "cell_type": "code",
      "source": [
        "import numpy as np\n",
        "import random\n",
        "import matplotlib.pyplot as plt"
      ],
      "metadata": {
        "id": "G79JnP4t4Eqw"
      },
      "execution_count": 1,
      "outputs": []
    },
    {
      "cell_type": "code",
      "source": [
        "from sklearn import datasets\n",
        "iris = datasets.load_iris()\n",
        "x = iris.data\n",
        "y = iris.target"
      ],
      "metadata": {
        "id": "KmTgnciWFC0O"
      },
      "execution_count": 2,
      "outputs": []
    },
    {
      "cell_type": "code",
      "source": [
        "\n",
        "x=x.T\n",
        "y=np.eye(3)[y]\n",
        "y=y.T\n",
        "print(x.shape,y.shape)"
      ],
      "metadata": {
        "colab": {
          "base_uri": "https://localhost:8080/"
        },
        "id": "GVPMgOfMFC3o",
        "outputId": "9985f129-0f5f-44e6-f5e8-98c5bf93619b"
      },
      "execution_count": 3,
      "outputs": [
        {
          "output_type": "stream",
          "name": "stdout",
          "text": [
            "(4, 150) (3, 150)\n"
          ]
        }
      ]
    },
    {
      "cell_type": "code",
      "source": [
        "def initialize_parameters(h1,h2,nx,ny):\n",
        "  w1=np.random.randn(h1,nx)\n",
        "  b1=np.random.randn(h1,1)\n",
        "\n",
        "  w2=np.random.randn(h2,h1)\n",
        "  b2=np.random.randn(h2,1)\n",
        "\n",
        "  w3=np.random.randn(ny,h2)\n",
        "  b3=np.random.randn(ny,1)\n",
        "\n",
        "  parameters={'w1':w1,'w2':w2,'w3':w3,'b1':b1,'b2':b2,'b3':b3}\n",
        "  return parameters"
      ],
      "metadata": {
        "id": "usrSV41k8AUJ"
      },
      "execution_count": 4,
      "outputs": []
    },
    {
      "cell_type": "code",
      "source": [
        "#activation functions\n",
        "def sigmoid(x):\n",
        "    return 1/(1+np.exp(-x))\n",
        "\n",
        "def relu(x):\n",
        "    return np.maximum(x,0)\n",
        "\n",
        "def softmax(x):\n",
        "    exps = np.exp(x - np.max(x, axis=0, keepdims=True))\n",
        "    return exps / np.sum(exps, axis=0, keepdims=True)\n",
        "\n",
        "def delrelu(x):\n",
        "    return np.where(x > 0, 1, 0)"
      ],
      "metadata": {
        "id": "mYYaNx3N8qJc"
      },
      "execution_count": 5,
      "outputs": []
    },
    {
      "cell_type": "code",
      "source": [
        "def forward_propogation(parameters,x):\n",
        "    w1=parameters['w1']\n",
        "    w2=parameters['w2']\n",
        "    w3=parameters['w3']\n",
        "    b1=parameters['b1']\n",
        "    b2=parameters['b2']\n",
        "    b3=parameters['b3']\n",
        "    z1=np.dot(w1,x)+b1\n",
        "    a1=relu(z1)\n",
        "\n",
        "    z2=np.dot(w2,a1)+b2\n",
        "    a2=relu(z2)\n",
        "\n",
        "    z3=np.dot(w3,a2)+b3\n",
        "    a3=softmax(z3)\n",
        "\n",
        "    forward_cache={'z1':z1,'z2':z2,'z3':z3,'a1':a1,'a2':a2,'a3':a3}\n",
        "    return forward_cache"
      ],
      "metadata": {
        "id": "08ynlWSI8M_L"
      },
      "execution_count": 6,
      "outputs": []
    },
    {
      "cell_type": "code",
      "source": [
        "def cost_funct(y,a3):\n",
        "  m=x.shape[1]\n",
        "  cost=-(1/m)*(np.sum(y*(np.log(a3))))\n",
        "  return cost"
      ],
      "metadata": {
        "id": "8Fm79jv18Otc"
      },
      "execution_count": 7,
      "outputs": []
    },
    {
      "cell_type": "code",
      "source": [
        "# use Gradient descent as of now as an optimizer"
      ],
      "metadata": {
        "id": "HctPDjITIeUq"
      },
      "execution_count": 8,
      "outputs": []
    },
    {
      "cell_type": "code",
      "source": [
        "def backward(forward,x,y,parameters):\n",
        "  w1=parameters['w1']\n",
        "  w2=parameters['w2']\n",
        "  w3=parameters['w3']\n",
        "  b1=parameters['b1']\n",
        "  b2=parameters['b2']\n",
        "  b3=parameters['b3']\n",
        "  z1=forward['z1']\n",
        "  z2=forward['z2']\n",
        "  z3=forward['z3']\n",
        "  a1=forward['a1']\n",
        "  a2=forward['a2']\n",
        "  a3=forward['a3']\n",
        "  m=x.shape[0]\n",
        "  dz3=a3-y\n",
        "  dw3=(1/m)*(np.dot(dz3,a2.T))\n",
        "  db3=(1/m)*np.sum(dz3,axis=1,keepdims=True)\n",
        "  dz2=np.dot(w3.T,dz3)*delrelu(a2)\n",
        "  dw2=(1/m)*(np.dot(dz2,a1.T))\n",
        "  db2=(1/m)*np.sum(dz2,axis=1,keepdims=True)\n",
        "\n",
        "  dz1=np.dot(w2.T,dz2)*delrelu(a1)\n",
        "  dw1=(1/m)*(np.dot(dz1,x.T))\n",
        "  db1=(1/m)*np.sum(dz1,axis=1,keepdims=True)\n",
        "  gradients={'dw1':dw1,'dw2':dw2,'dw3':dw3,'db1':db1,'db2':db2,'db3':db3}\n",
        "  return gradients"
      ],
      "metadata": {
        "id": "OVGy14Vt_kN_"
      },
      "execution_count": 9,
      "outputs": []
    },
    {
      "cell_type": "code",
      "source": [
        "def update_parameters(parameters,gradients,rate):\n",
        "  w1=parameters['w1']\n",
        "  w2=parameters['w2']\n",
        "  w3=parameters['w3']\n",
        "  b1=parameters['b1']\n",
        "  b2=parameters['b2']\n",
        "  b3=parameters['b3']\n",
        "  dw1=gradients['dw1']\n",
        "  dw2=gradients['dw2']\n",
        "  dw3=gradients['dw3']\n",
        "  db1=gradients['db1']\n",
        "  db2=gradients['db2']\n",
        "  db3=gradients['db3']\n",
        "\n",
        "  w1=w1-rate*dw1\n",
        "  w2=w2-rate*dw2\n",
        "  w3=w3-rate*dw3\n",
        "  b1=b1-rate*db1\n",
        "  b2=b2-rate*db2\n",
        "  b3=b3-rate*db3\n",
        "  updated_parameters={'w1':w1,'w2':w2,'b1':b1,'b2':b2,'w3':w3,'b3':b3}\n",
        "  return updated_parameters"
      ],
      "metadata": {
        "id": "YbBKpK55ITPg"
      },
      "execution_count": 10,
      "outputs": []
    },
    {
      "cell_type": "code",
      "source": [
        "def model(x,y,nh1,nh2,rate,epochs):\n",
        "  nx=x.shape[0]\n",
        "  ny=3\n",
        "  cost_list=[]\n",
        "  parameters=initialize_parameters(nh1,nh2,nx,ny)\n",
        "  for i in range(epochs):\n",
        "    forward=forward_propogation(parameters,x)\n",
        "    cost=cost_funct(y,forward['a3'])\n",
        "    gradients= backward(forward,x,y,parameters)\n",
        "    parameters=update_parameters(parameters,gradients,rate)\n",
        "    cost_list.append(cost)\n",
        "    if(i%10==0):\n",
        "      print(\"cost of\",i,\"iteration is\",cost)\n",
        "  return parameters"
      ],
      "metadata": {
        "id": "x7DOBhxNIxST"
      },
      "execution_count": 11,
      "outputs": []
    },
    {
      "cell_type": "code",
      "source": [
        "parameters=model(x,y,10,10,0.001,1000)"
      ],
      "metadata": {
        "id": "pH7yhg6LI-R4",
        "colab": {
          "base_uri": "https://localhost:8080/"
        },
        "outputId": "74e77b62-f5bf-4850-a5d5-4bc745b0571c"
      },
      "execution_count": 12,
      "outputs": [
        {
          "output_type": "stream",
          "name": "stdout",
          "text": [
            "cost of 0 iteration is 26.134036361941547\n",
            "cost of 10 iteration is 0.6500514256513615\n",
            "cost of 20 iteration is 0.6044777572853169\n",
            "cost of 30 iteration is 0.5701301537748824\n",
            "cost of 40 iteration is 0.5378828042245007\n",
            "cost of 50 iteration is 0.5072653743911468\n",
            "cost of 60 iteration is 0.4826101359565066\n",
            "cost of 70 iteration is 0.45771723726399477\n",
            "cost of 80 iteration is 0.4309103580766657\n",
            "cost of 90 iteration is 0.4226937882628065\n",
            "cost of 100 iteration is 0.4042757727336497\n",
            "cost of 110 iteration is 0.37731120087948944\n",
            "cost of 120 iteration is 0.3903684465767258\n",
            "cost of 130 iteration is 0.3509818277959368\n",
            "cost of 140 iteration is 0.4209239010168922\n",
            "cost of 150 iteration is 0.3038972775214937\n",
            "cost of 160 iteration is 0.2902766959181574\n",
            "cost of 170 iteration is 0.2776806908278326\n",
            "cost of 180 iteration is 0.26606326845770745\n",
            "cost of 190 iteration is 0.2553170147949226\n",
            "cost of 200 iteration is 0.24535464411183794\n",
            "cost of 210 iteration is 0.23610671308103592\n",
            "cost of 220 iteration is 0.22751721837403208\n",
            "cost of 230 iteration is 0.21953215190305533\n",
            "cost of 240 iteration is 0.21211019570775527\n",
            "cost of 250 iteration is 0.20648222570206473\n",
            "cost of 260 iteration is 0.26975591850695446\n",
            "cost of 270 iteration is 0.19905371214917317\n",
            "cost of 280 iteration is 0.2859747370219276\n",
            "cost of 290 iteration is 0.193011298911689\n",
            "cost of 300 iteration is 0.18607055209720819\n",
            "cost of 310 iteration is 0.4884348859369589\n",
            "cost of 320 iteration is 0.3871245612628691\n",
            "cost of 330 iteration is 0.17454770572945247\n",
            "cost of 340 iteration is 0.1701415325068612\n",
            "cost of 350 iteration is 0.23268395858800375\n",
            "cost of 360 iteration is 0.2338659527233469\n",
            "cost of 370 iteration is 0.2101398043720053\n",
            "cost of 380 iteration is 0.21983644252040174\n",
            "cost of 390 iteration is 0.19513977104151597\n",
            "cost of 400 iteration is 0.20666899722335694\n",
            "cost of 410 iteration is 0.19214892453944252\n",
            "cost of 420 iteration is 0.19439408565458624\n",
            "cost of 430 iteration is 0.18874340846953735\n",
            "cost of 440 iteration is 0.17675462655092472\n",
            "cost of 450 iteration is 0.16446730554681907\n",
            "cost of 460 iteration is 0.1862836426189108\n",
            "cost of 470 iteration is 0.17267826993630767\n",
            "cost of 480 iteration is 0.16145486116003707\n",
            "cost of 490 iteration is 0.17126545417985112\n",
            "cost of 500 iteration is 0.1597474395804553\n",
            "cost of 510 iteration is 0.14593574527097414\n",
            "cost of 520 iteration is 0.14365581657978227\n",
            "cost of 530 iteration is 0.15635708370766185\n",
            "cost of 540 iteration is 0.13935865932064406\n",
            "cost of 550 iteration is 0.15182495799116066\n",
            "cost of 560 iteration is 0.14987648603773016\n",
            "cost of 570 iteration is 0.14720035297316772\n",
            "cost of 580 iteration is 0.13944251552994263\n",
            "cost of 590 iteration is 0.14354951801500224\n",
            "cost of 600 iteration is 0.13298986422556403\n",
            "cost of 610 iteration is 0.13041637702413722\n",
            "cost of 620 iteration is 0.1298960603783182\n",
            "cost of 630 iteration is 0.128695634882555\n",
            "cost of 640 iteration is 0.12740341119380988\n",
            "cost of 650 iteration is 0.12576536648558231\n",
            "cost of 660 iteration is 0.12436823458757187\n",
            "cost of 670 iteration is 0.13969363420246028\n",
            "cost of 680 iteration is 0.13579914515317176\n",
            "cost of 690 iteration is 0.13427837286779318\n",
            "cost of 700 iteration is 0.12687290835020085\n",
            "cost of 710 iteration is 0.12613482222548664\n",
            "cost of 720 iteration is 0.1367315978241884\n",
            "cost of 730 iteration is 0.12326646422219058\n",
            "cost of 740 iteration is 0.13825874761938298\n",
            "cost of 750 iteration is 0.13401910143723217\n",
            "cost of 760 iteration is 0.13029924884826374\n",
            "cost of 770 iteration is 0.11992355584198341\n",
            "cost of 780 iteration is 0.11430789558657793\n",
            "cost of 790 iteration is 0.12144386956006183\n",
            "cost of 800 iteration is 0.11771745953248886\n",
            "cost of 810 iteration is 0.10963309367736217\n",
            "cost of 820 iteration is 0.10967726969679384\n",
            "cost of 830 iteration is 0.11716190602256457\n",
            "cost of 840 iteration is 0.11697335661911783\n",
            "cost of 850 iteration is 0.11270722149845992\n",
            "cost of 860 iteration is 0.10590868912755584\n",
            "cost of 870 iteration is 0.10563186370353052\n",
            "cost of 880 iteration is 0.11057436029915897\n",
            "cost of 890 iteration is 0.10584063976331262\n",
            "cost of 900 iteration is 0.10802735833613265\n",
            "cost of 910 iteration is 0.11183826405127845\n",
            "cost of 920 iteration is 0.11308169232785205\n",
            "cost of 930 iteration is 0.10198190760874024\n",
            "cost of 940 iteration is 0.09707094672781592\n",
            "cost of 950 iteration is 0.09868456033515212\n",
            "cost of 960 iteration is 0.09449818075151631\n",
            "cost of 970 iteration is 0.10911057609513437\n",
            "cost of 980 iteration is 0.10629690840566822\n",
            "cost of 990 iteration is 0.0972285444961679\n"
          ]
        }
      ]
    }
  ]
}